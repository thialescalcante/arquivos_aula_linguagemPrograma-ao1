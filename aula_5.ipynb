{
  "nbformat": 4,
  "nbformat_minor": 0,
  "metadata": {
    "colab": {
      "provenance": [],
      "include_colab_link": true
    },
    "kernelspec": {
      "name": "python3",
      "display_name": "Python 3"
    },
    "language_info": {
      "name": "python"
    }
  },
  "cells": [
    {
      "cell_type": "markdown",
      "metadata": {
        "id": "view-in-github",
        "colab_type": "text"
      },
      "source": [
        "<a href=\"https://colab.research.google.com/github/thialescalcante/arquivos_aula_linguagemPrograma-ao1/blob/main/aula_5.ipynb\" target=\"_parent\"><img src=\"https://colab.research.google.com/assets/colab-badge.svg\" alt=\"Open In Colab\"/></a>"
      ]
    },
    {
      "cell_type": "markdown",
      "source": [
        "# Conteúdo do dia\n",
        "\n",
        "##Caderno\n",
        "\n",
        "Manipulação de arquivos ~ via input (entrada de dados) = via usuário, linhas de comando, arquivos. Hoje: como processar arquivos .txt.\n",
        "\n",
        "Com Python, é importante saber como o sistema das informações é organizado.\n",
        "* Referência do arquivo. A ideia é basicamente saber o caminho do arquivo. Existe a referência **absoluta** e a **relativa**. Por vezes, a absoluta (caminho todo) pode ser 'comprida', mas você não terá problemas com o caminho. A outra opção é a referência relativa, que vai from arquivo python até o arquivo (como quando o arquivo a ser consultado está salva mesma pasta do projeto). Ao abrirmos arquivos em projetos python, é necessário **referenciar** esses arquivos.\n",
        "\n",
        "É bom que o arquivo sempre esteja **dentro de uma variável** que facilita a manipulação dos dados. Esse processo de manipulação sempre começa com a criação de um OBJETO DE ARQUIVO (como se fosse uma 'cópia' que só o script usa para trabalhar, sem alterar o arquivo original.)\n",
        "\n",
        "* Ciclo de vida de um arquivo: abertura, manipulação (leitura/ gravação) e fechamento\n",
        "```open('caminho do arquivo', modo que será aberto (leitura/ escrita/ etc), codificação)```\n",
        "Por exemplo: ```arquivo_teste = open('teste.txt'). ```\n",
        "Caso o arquivo não exista, vai dar erro *not found*.\n",
        "\n",
        "\n",
        "* Modos possíveis: r = leitura // w = escrita // a = adição ao final do texto // b = arquivo binário // t = texto (a codificação só é aplicada aos arquivos de texto, pra ele rodar para linguagem natural do jeito certo. Por padrão, o python reconhece tudo como arquivo de texto na codificação utf-8.)\n",
        "\n",
        "\n",
        "\n",
        "[traceback: a sintaxe está certa, mas existe outro erro no processo - tipo quando um arquvo não existe.]\n",
        "\n",
        "**Métodos**: funções aplicadas a determinados tipos de objeto. Exemplo:\n",
        "Texto.read() = objeto arquivo\n",
        "format() = objetos string.\n",
        "Há funções só para listas também, entre outros.\n",
        ".read() = leitura total\n",
        ".readline = lê uma linha\n",
        ".seek(posição) = posição desejada para o cursor\n",
        ".close() = fecha o arquivo\n",
        ".write() = escreve no arquivo\n"
      ],
      "metadata": {
        "id": "ldxqhxdzekC2"
      }
    },
    {
      "cell_type": "markdown",
      "source": [
        "## EXEMPLOS"
      ],
      "metadata": {
        "id": "U0u1mw0UepVO"
      }
    },
    {
      "cell_type": "code",
      "source": [
        "#exemplo:\n",
        "\n",
        "variavel = 'caminho do arquivo'\n",
        "texto = open(variavel, 'r', encoding='utf-8')\n",
        "#leitura(read)\n",
        "palavras = texto.read()\n",
        "texto.close()"
      ],
      "metadata": {
        "id": "t86LRWopsRQG"
      },
      "execution_count": null,
      "outputs": []
    },
    {
      "cell_type": "code",
      "execution_count": null,
      "metadata": {
        "id": "QrKyJLzaeJNv"
      },
      "outputs": [],
      "source": [
        "## criação da função: abertura, manipulação e fechamento\n",
        "\n",
        "#Opção1\n",
        "def leituraArquivo(nomeDoArquivo):\n",
        "  \"\"\"descrição do que a função faz logo na primeira linha\n",
        "  várias linhas de comentário\"\"\"\n",
        "\n",
        "  arqEntrada = open(nomeDoArquivo, 'r')\n",
        "  conteudo = arqEntrada.read()\n",
        "  arqEntrada.close()\n",
        "\n",
        "  return conteudo\n",
        "\n",
        "#Opção2\n",
        "def leituraArquivo(nomeDoArquivo):\n",
        "  \"\"\"descrição do que a função faz logo na primeira linha\n",
        "  várias linhas de comentário\"\"\"\n",
        "\n",
        "  arqEntrada = open(nomeDoArquivo, 'r')\n",
        "  conteudo = arqEntrada.read()\n",
        "  arqEntrada.close()\n",
        "\n",
        "  return len(conteudo) #informa o tamanho do arquivo\n",
        "\n",
        "#Opção3\n",
        "def leituraArquivo(nomeDoArquivo):\n",
        "  \"\"\"descrição do que a função faz logo na primeira linha\n",
        "  várias linhas de comentário\"\"\"\n",
        "\n",
        "  arqEntrada = open(nomeDoArquivo, 'r')\n",
        "  conteudo = arqEntrada.read()\n",
        "  ListaPalavras = conteudo.split()  #quando o texto é muito grande, não é recomendado trabalhar como um bloco só - então transformamos em uma lista de palavras.\n",
        "  #Isso é interessante quando se precisa igorar certas palavras também.\n",
        "  arqEntrada.close()\n",
        "\n",
        "  return ListaPalavras"
      ]
    },
    {
      "cell_type": "markdown",
      "source": [
        "## EXERCÍCIO B"
      ],
      "metadata": {
        "id": "JodDqyxGfhC-"
      }
    },
    {
      "cell_type": "code",
      "execution_count": null,
      "metadata": {
        "id": "9RlSBSHNfhC-"
      },
      "outputs": [],
      "source": []
    },
    {
      "cell_type": "markdown",
      "source": [
        "### Novidades neste exercício"
      ],
      "metadata": {
        "id": "Nk6s7aYMfhC-"
      }
    },
    {
      "cell_type": "markdown",
      "source": [
        "### Erros que cometi neste exercício"
      ],
      "metadata": {
        "id": "dtiCnyPrfhC_"
      }
    },
    {
      "cell_type": "markdown",
      "source": [],
      "metadata": {
        "id": "1P14rs7uf1uN"
      }
    },
    {
      "cell_type": "markdown",
      "source": [
        "## EXERCÍCIO C"
      ],
      "metadata": {
        "id": "7xqD9gRuf2xK"
      }
    },
    {
      "cell_type": "code",
      "execution_count": null,
      "metadata": {
        "id": "6URTm7Ybf2xL"
      },
      "outputs": [],
      "source": []
    },
    {
      "cell_type": "markdown",
      "source": [
        "### Novidades neste exercício"
      ],
      "metadata": {
        "id": "qdWJnCQ8f2xL"
      }
    },
    {
      "cell_type": "markdown",
      "source": [
        "### Erros que cometi neste exercício"
      ],
      "metadata": {
        "id": "ojHtAesIf2xM"
      }
    },
    {
      "cell_type": "markdown",
      "source": [],
      "metadata": {
        "id": "H2XMVlvNf68F"
      }
    },
    {
      "cell_type": "markdown",
      "source": [
        "## EXERCÍCIO D"
      ],
      "metadata": {
        "id": "zJvdBbOqf7cB"
      }
    },
    {
      "cell_type": "code",
      "execution_count": null,
      "metadata": {
        "id": "5bPHK2NDf7cC"
      },
      "outputs": [],
      "source": []
    },
    {
      "cell_type": "markdown",
      "source": [
        "### Novidades neste exercício"
      ],
      "metadata": {
        "id": "IFMKfCn2f7cC"
      }
    },
    {
      "cell_type": "markdown",
      "source": [
        "### Erros que cometi neste exercício"
      ],
      "metadata": {
        "id": "SC-ukvfff7cD"
      }
    },
    {
      "cell_type": "markdown",
      "source": [],
      "metadata": {
        "id": "BY2nJidogA6W"
      }
    },
    {
      "cell_type": "markdown",
      "source": [
        "## EXERCÍCIO E"
      ],
      "metadata": {
        "id": "1Wt6dFqkgBQr"
      }
    },
    {
      "cell_type": "code",
      "execution_count": null,
      "metadata": {
        "id": "XVak6wXvgBQs"
      },
      "outputs": [],
      "source": []
    },
    {
      "cell_type": "markdown",
      "source": [
        "### Novidades neste exercício"
      ],
      "metadata": {
        "id": "VXTBUIsUgBQs"
      }
    },
    {
      "cell_type": "markdown",
      "source": [
        "### Erros que cometi neste exercício"
      ],
      "metadata": {
        "id": "eHrsBzwzgBQt"
      }
    },
    {
      "cell_type": "markdown",
      "source": [],
      "metadata": {
        "id": "FgkRxM4QgI7V"
      }
    },
    {
      "cell_type": "markdown",
      "source": [
        "## EXERCÍCIO F"
      ],
      "metadata": {
        "id": "wMk_M_c6gJNv"
      }
    },
    {
      "cell_type": "code",
      "execution_count": null,
      "metadata": {
        "id": "TedkKEmCgJNw"
      },
      "outputs": [],
      "source": []
    },
    {
      "cell_type": "markdown",
      "source": [
        "### Novidades neste exercício"
      ],
      "metadata": {
        "id": "1dHyZ6hdgJNw"
      }
    },
    {
      "cell_type": "markdown",
      "source": [
        "### Erros que cometi neste exercício"
      ],
      "metadata": {
        "id": "5HMJRrYBgJNy"
      }
    },
    {
      "cell_type": "markdown",
      "source": [],
      "metadata": {
        "id": "IuO7LI73gMUe"
      }
    },
    {
      "cell_type": "markdown",
      "source": [
        "## EXERCÍCIO G"
      ],
      "metadata": {
        "id": "fF5y9oHPgMlO"
      }
    },
    {
      "cell_type": "code",
      "execution_count": null,
      "metadata": {
        "id": "0ykmLKkqgMlO"
      },
      "outputs": [],
      "source": []
    },
    {
      "cell_type": "markdown",
      "source": [
        "### Novidades neste exercício"
      ],
      "metadata": {
        "id": "vEFkqGHYgMlO"
      }
    },
    {
      "cell_type": "markdown",
      "source": [
        "### Erros que cometi neste exercício"
      ],
      "metadata": {
        "id": "oOteX_ukgMlP"
      }
    }
  ]
}