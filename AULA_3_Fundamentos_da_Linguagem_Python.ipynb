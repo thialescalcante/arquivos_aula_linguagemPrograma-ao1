{
  "nbformat": 4,
  "nbformat_minor": 0,
  "metadata": {
    "colab": {
      "provenance": [],
      "include_colab_link": true
    },
    "kernelspec": {
      "name": "python3",
      "display_name": "Python 3"
    },
    "language_info": {
      "name": "python"
    }
  },
  "cells": [
    {
      "cell_type": "markdown",
      "metadata": {
        "id": "view-in-github",
        "colab_type": "text"
      },
      "source": [
        "<a href=\"https://colab.research.google.com/github/thialescalcante/arquivos_aula_linguagemPrograma-ao1/blob/main/AULA_3_Fundamentos_da_Linguagem_Python.ipynb\" target=\"_parent\"><img src=\"https://colab.research.google.com/assets/colab-badge.svg\" alt=\"Open In Colab\"/></a>"
      ]
    },
    {
      "cell_type": "markdown",
      "source": [
        "# **AULA 3 - Fundamentos da Linguagem Python**\n",
        "\n",
        "\n",
        "*   Impressão de informações\n",
        "*   Entrada de dados\n",
        "*   Desvio Condicional\n",
        "\n",
        "\n",
        "\n"
      ],
      "metadata": {
        "id": "XPivWHqg9DAJ"
      }
    },
    {
      "cell_type": "markdown",
      "source": [
        "##EXERCICIO 9 - Imprimindo, Imprimindo, *Imprimindo*"
      ],
      "metadata": {
        "id": "9roNesDE-mbl"
      }
    },
    {
      "cell_type": "code",
      "execution_count": null,
      "metadata": {
        "id": "wS1eZOwk88qk"
      },
      "outputs": [],
      "source": [
        "days = \"Mon Tue Wed Thu Fri Sat Sun\"\n",
        "months = \"Jan\\nFeb\\nMar\\nApr\\nMay\\nJun\\nJul\\nAgo\\nSet\\nOut\\nNov\\nDez\"\n",
        "\n",
        "print(\"Here are the days: \", days)\n",
        "print(\"Here are the months: \", months)\n",
        "\n",
        "print ( \"\"\"\n",
        "There's something going on here.\n",
        "With the three double-quotes.\n",
        "We'll be able to type as much as we like.\n",
        "Even 4 lines if we want, or 5, or 6.\n",
        "\"\"\")\n"
      ]
    },
    {
      "cell_type": "markdown",
      "source": [
        "##EXERCICIO 10 - O que foi isso?"
      ],
      "metadata": {
        "id": "LzNeg72k9ENb"
      }
    },
    {
      "cell_type": "code",
      "source": [
        "tabby_cat = \"\\tI'm tabbed in.\"\n",
        "persian_cat = \"I'm split\\non a line.\"\n",
        "backslash_cat = \"I'm \\\\ a \\\\ cat.\"\n",
        "\n",
        "fat_cat = \"\"\"\n",
        "I'll do a list:\n",
        "\\t* Cat food\n",
        "\\t* Fishies\n",
        "\\t* Catnip\\n\\t* Grass\n",
        "\"\"\"\n",
        "\n",
        "print(tabby_cat)\n",
        "print(persian_cat)\n",
        "print(backslash_cat)\n",
        "print(fat_cat)\n"
      ],
      "metadata": {
        "id": "Z5OmYMpt_lz9"
      },
      "execution_count": null,
      "outputs": []
    },
    {
      "cell_type": "markdown",
      "source": [
        "##EXERCICIO 11 - Fazendo Perguntas"
      ],
      "metadata": {
        "id": "6PomIhXZBVZf"
      }
    },
    {
      "cell_type": "code",
      "source": [
        "print(\"How old are you?\", end=' ')\n",
        "age = input()\n",
        "print(\"How tall are you?\", end=' ')\n",
        "height = input()\n",
        "print(\"How much do you weigh?\", end=' ')\n",
        "weight = input()\n",
        "\n",
        "print(f\"So, you're {age} old, {height} tall and {weight} heavy.\")\n"
      ],
      "metadata": {
        "id": "9ynnLpeoBaeR"
      },
      "execution_count": null,
      "outputs": []
    },
    {
      "cell_type": "markdown",
      "source": [
        "##EXERCICIO 12 - Perguntando as pessoas"
      ],
      "metadata": {
        "id": "r6WUeLxcBsaz"
      }
    },
    {
      "cell_type": "code",
      "source": [
        "age = input(\"How old are you? \")\n",
        "height = input(\"How tall are you? \")\n",
        "weight = input(\"How much do you weigh? \")\n",
        "\n",
        "print(f\"So, you're {age} old, {height} tall and {weight} heavy.\")\n",
        "\n"
      ],
      "metadata": {
        "colab": {
          "base_uri": "https://localhost:8080/"
        },
        "id": "6Wlf1sgJB2zo",
        "outputId": "fd62bd1c-2ee1-4e21-ad8e-eb9b096a698f"
      },
      "execution_count": null,
      "outputs": [
        {
          "output_type": "stream",
          "name": "stdout",
          "text": [
            "How old are you? 18\n",
            "How tall are you? 1,65\n",
            "How much do you weigh? 20\n",
            "So, you're 18 old, 1,65 tall and 20 heavy.\n"
          ]
        }
      ]
    },
    {
      "cell_type": "markdown",
      "source": [
        "##EXERCICIO 13 - Instrução IF"
      ],
      "metadata": {
        "id": "OJHmYc5ICBjm"
      }
    },
    {
      "cell_type": "code",
      "source": [
        "people = 20\n",
        "cats = 30\n",
        "dogs = 15\n",
        "\n",
        "if people < cats:\n",
        "    print(\"Too many cats! The world is doomed!\")\n",
        "\n",
        "if people > cats:\n",
        "    print(\"Not many cats! The world is saved!\")\n",
        "\n",
        "if people < dogs:\n",
        "  print (\"the world is drooled on!\")\n",
        "\n",
        "if people > dogs:\n",
        "  print (\"the world is dry!\")\n",
        "\n",
        "dogs += 5\n",
        "\n",
        "if people >= dogs:\n",
        "  print (\"people are greater than or equal to dogs.\")\n",
        "\n",
        "if people <= dogs:\n",
        "  print (\"people are less than or equal to dogs.\")\n",
        "\n",
        "  if people == dogs:\n",
        "    print (\"people are dogs.\")\n",
        "\n",
        "\n"
      ],
      "metadata": {
        "colab": {
          "base_uri": "https://localhost:8080/"
        },
        "id": "cPiWNSJWCJby",
        "outputId": "a726841b-ccb1-4193-9ebf-e53702a736f3"
      },
      "execution_count": null,
      "outputs": [
        {
          "output_type": "stream",
          "name": "stdout",
          "text": [
            "Too many cats! The world is doomed!\n",
            "the world is dry!\n",
            "people are greater than or equal to dogs.\n",
            "people are less than or equal to dogs.\n",
            "people are dogs.\n"
          ]
        }
      ]
    },
    {
      "cell_type": "markdown",
      "source": [
        "##EXERCICIO 14 - Else e IF"
      ],
      "metadata": {
        "id": "OUVCj2VzDVvi"
      }
    },
    {
      "cell_type": "code",
      "source": [
        "people = 30\n",
        "cars = 40\n",
        "trucks = 15\n",
        "\n",
        "if cars > people:\n",
        "    print(\"We should take the cars.\")\n",
        "elif cars < people:\n",
        "    print(\"We should not take the cars.\")\n",
        "else:\n",
        "    print(\"We can't decide.\")\n",
        "\n",
        "if trucks > cars:\n",
        "    print(\"That's too many trucks.\")\n",
        "elif trucks < cars:\n",
        "    print(\"Maybe we could take the trucks.\")\n",
        "else:\n",
        "     print(\"We still can't decide.\")\n",
        "\n",
        "if people > trucks:\n",
        "     print(\"Alright, let's just take the trucks.\")\n",
        "else:\n",
        "     print(\"Fine, let's stay home then.\")\n",
        "\n"
      ],
      "metadata": {
        "colab": {
          "base_uri": "https://localhost:8080/"
        },
        "id": "KnKfycrqDdJm",
        "outputId": "123d1437-8530-4472-aa7e-c0383c286423"
      },
      "execution_count": null,
      "outputs": [
        {
          "output_type": "stream",
          "name": "stdout",
          "text": [
            "We should take the cars.\n",
            "Maybe we could take the trucks.\n",
            "Alright, let's just take the trucks.\n"
          ]
        }
      ]
    },
    {
      "cell_type": "markdown",
      "source": [
        "##EXERCICIO 15 - Tomando Decisões"
      ],
      "metadata": {
        "id": "Nx_m6SvkEChC"
      }
    },
    {
      "cell_type": "code",
      "source": [
        "print(\"\"\"You enter a dark room with two doors.\n",
        "Do you go through door #1 or door #2?\"\"\")\n",
        "\n",
        "door = input(\"> \")\n",
        "\n",
        "if door == \"1\":\n",
        "    print(\"There's a giant bear here eating a cheese cake.\")\n",
        "    print(\"What do you do?\")\n",
        "    print(\"1. Take the cake.\")\n",
        "    print(\"2. Scream at the bear.\")\n",
        "\n",
        "    bear = input(\"> \")\n",
        "\n",
        "    if bear == \"1\":\n",
        "     print(\"The bear eats your face off. Good job!\")\n",
        "    elif bear == \"2\":\n",
        "      print(\"The bear eats your legs off. Good job!\")\n",
        "    else:\n",
        "      print(f\"Well, doing {bear} is probably better.\")\n",
        "      print(\"Bear runs away.\")\n",
        "\n",
        "\n",
        "elif door == \"2\":\n",
        "\n",
        "    print(\"You stare into the endless abyss at Cthulhu's retina.\")\n",
        "    print(\"1. Blueberries.\")\n",
        "    print(\"2. Yellow jacket clothespins.\")\n",
        "    print(\"3. Understanding revolvers yelling melodies.\")\n",
        "\n",
        "    insanity = input(\"> \")\n",
        "\n",
        "    if insanity == \"1\" or insanity == \"2\":\n",
        "     print(\"Your body survives powered by a mind of jello.\")\n",
        "     print(\"Good job!\")\n",
        "else:\n",
        "    print(\"The insanity rots your eyes into a pool of muck.\")\n",
        "    print(\"Good job!\")\n",
        "\n"
      ],
      "metadata": {
        "colab": {
          "base_uri": "https://localhost:8080/"
        },
        "id": "5MwKNjJJEJ0F",
        "outputId": "45754e06-a1c4-4d28-f9cf-fa1f7659b625"
      },
      "execution_count": null,
      "outputs": [
        {
          "output_type": "stream",
          "name": "stdout",
          "text": [
            "You enter a dark room with two doors.\n",
            "Do you go through door #1 or door #2?\n",
            "> 20\n",
            "The insanity rots your eyes into a pool of muck.\n",
            "Good job!\n"
          ]
        }
      ]
    }
  ]
}