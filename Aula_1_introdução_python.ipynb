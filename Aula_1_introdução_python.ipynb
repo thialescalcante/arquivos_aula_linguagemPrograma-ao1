{
  "nbformat": 4,
  "nbformat_minor": 0,
  "metadata": {
    "colab": {
      "provenance": []
    },
    "kernelspec": {
      "name": "python3",
      "display_name": "Python 3"
    },
    "language_info": {
      "name": "python"
    }
  },
  "cells": [
    {
      "cell_type": "markdown",
      "source": [
        "#  Primeiros passos com Python\n",
        "\n",
        "Vamos Realizar os primeiros códigos com a linguagem Pyhton para observar o funcionamento das etapas:\n",
        "\n",
        "1.  Entrada\n",
        "2.  Processamento\n",
        "3.  Saída\n",
        "4.  Comentários\n"
      ],
      "metadata": {
        "id": "5Od34ZF6t3aU"
      }
    },
    {
      "cell_type": "markdown",
      "source": [
        "# Nova seção"
      ],
      "metadata": {
        "id": "Vhw0iCSa7gwI"
      }
    },
    {
      "cell_type": "markdown",
      "source": [
        "## Exercicio 1 - Um bom programa inicial\n",
        " O primeiro passo para usar linhas de código em alguma linguagem (saída de dados)"
      ],
      "metadata": {
        "id": "2tQhWkjvvSSo"
      }
    },
    {
      "cell_type": "markdown",
      "source": [
        "# Nova seção"
      ],
      "metadata": {
        "id": "kWSJnac_7unb"
      }
    },
    {
      "cell_type": "code",
      "source": [
        "print (\"Hello World!\")\n",
        "print (\"Hello Again.\")\n",
        "\n",
        "print (\" I like typing this.\")\n",
        "print (\"This is fun.\")\n",
        "\n",
        "print ('Yay! Printing.')\n",
        "print (\"I'd much rather you 'not'.\")\n",
        "print ('I \"said\" do not touch this.')"
      ],
      "metadata": {
        "colab": {
          "base_uri": "https://localhost:8080/"
        },
        "id": "wJjRRH1TvkFz",
        "outputId": "2439a382-c108-482d-d33d-ead22b0842d6"
      },
      "execution_count": null,
      "outputs": [
        {
          "output_type": "stream",
          "name": "stdout",
          "text": [
            "Hello World!\n",
            "Hello Again.\n",
            " I like typing this.\n",
            "This is fun.\n",
            "Yay! Printing.\n",
            "I'd much rather you 'not'.\n",
            "I \"said\" do not touch this.\n"
          ]
        }
      ]
    },
    {
      "cell_type": "markdown",
      "source": [
        "EXERCICIO 2 - Comentários e Cerquilhas\n",
        "Compreender o uso de comentários para minhas linhas de códigos;"
      ],
      "metadata": {
        "id": "jkzwIIr96Cnf"
      }
    },
    {
      "cell_type": "code",
      "source": [
        "# Um comentário, assim você pode ler seu programa mais tarde.\n",
        "# Qualquer coisa depois de # é ignorada pelo Python\n",
        "\n",
        "print (\" I could have code like this.\") # e o comentário depois é ignorado\n",
        "\n",
        "# Você também pode usar um comentário para desabilitar um código\n",
        "# print (\"This won't run.\")\n",
        "\n",
        "print (\" This will run.\")\n",
        "\n"
      ],
      "metadata": {
        "colab": {
          "base_uri": "https://localhost:8080/"
        },
        "id": "f8c_NO5L6CSo",
        "outputId": "17322b1a-c0e9-468c-9e37-7a08fcdbcb7c"
      },
      "execution_count": null,
      "outputs": [
        {
          "output_type": "stream",
          "name": "stdout",
          "text": [
            " I could have code like this.\n",
            " This will run.\n"
          ]
        }
      ]
    },
    {
      "cell_type": "markdown",
      "source": [
        "EXERCICIO 3 - Números e Matemática\n",
        "\n",
        "Primeiras operações matematicas, dentro da instrução de saída de dados\n",
        "\n",
        "\n",
        "\n"
      ],
      "metadata": {
        "id": "Ud8P51sq8gpw"
      }
    },
    {
      "cell_type": "code",
      "source": [
        "#inicia com um texto sobre o que sera feito no resto do programa\n",
        "print (\" I will now count my chickens:\")\n",
        "# irá concatenar o texto entre aspas com o resultado das operações após as virgulas\n",
        "print (\"Hens\", 25 + 30 / 6)\n",
        "print (\"Roosters\", 100 - 25 * 3 % 4)\n",
        "#inicia com um texto sobre o que sera feito no resto do programa\n",
        "print (\"Now I will count the eggs:\")\n",
        "# irá realizar uma operação matematica\n",
        "print (3 + 2 + 1 - 5 + 4 % 2 - 1 / 4 + 6)\n",
        "#inicia com um texto sobre o que sera feito no resto do programa\n",
        "print (\"Is it true that 3 + 2 < 5 - 7?\")\n",
        "# irá realizar uma operação matematica\n",
        "print (3 + 2 < 5 - 7)\n",
        "#inicia com um texto sobre o que sera feito no resto do programa\n",
        "print (\"What is 3 + 2?\", 3 + 2)\n",
        "print (\"What is 5 - 7?\", 5 - 7)\n",
        "#inicia com um texto sobre o que sera feito no resto do programa\n",
        "print (\"Oh, that's why it's False.\")\n",
        "#inicia com um texto sobre o que sera feito no resto do programa\n",
        "print (\"How About some more.\")\n",
        "#texto com operações relacionais\n",
        "print (\"Is it greater?\", 5 > -2)\n",
        "print (\"Is it greater or equal?\", 5 >= -2)\n",
        "print (\"Is it less or equal?\", 5 <= -2)"
      ],
      "metadata": {
        "id": "chAPVUln8wiK"
      },
      "execution_count": null,
      "outputs": []
    },
    {
      "cell_type": "markdown",
      "source": [
        "EXERCICIO 4 - Variáveis e Nomes\n",
        "\n",
        "Como declarar variáveis e seus rótulos;\n"
      ],
      "metadata": {
        "id": "xhS--auJA1xw"
      }
    },
    {
      "cell_type": "code",
      "source": [
        "cars = 100 #atribuindo nº inteiro\n",
        "sapce_in_a_car = 4.0 #atribuindo nº real\n",
        "drivers = 30 #atribuindo nº inteiro\n",
        "passengers = 90 #atribuindo nº inteiro\n",
        "cars_not_driven = cars - drivers #operação aritmética entre inteiro e inteiro\n",
        "cars_driven = drivers #atribuição de valor entre variáveis sem operação\n",
        "carpool_capacity = cars_driven * sapce_in_a_car #atribuindo o resultado de um operação aritmética entre inteiro e real\n",
        "average_passengers_per_car = passengers / cars_driven #atribuindo o resultado de um operação aritmética entre inteiro e inteiro\n",
        "\n",
        "print (\"There are\", cars, \"cars available.\")\n",
        "print (\"There are only\", drivers, \"drivers available.\")\n",
        "print (\"There will be\", cars_not_driven, \"empty cars today.\")\n",
        "print (\"We can transport\", carpool_capacity, \"people today.\")\n",
        "print (\"We have\", passengers, \"to carpool today.\")\n",
        "print (\"We need to put about\", average_passengers_per_car, \"in each car.\")\n",
        "print (10/5)"
      ],
      "metadata": {
        "colab": {
          "base_uri": "https://localhost:8080/"
        },
        "id": "FeRiL8e3BAJW",
        "outputId": "86b4d178-e74f-4db7-9bee-c14a0e5cdfcc"
      },
      "execution_count": null,
      "outputs": [
        {
          "output_type": "stream",
          "name": "stdout",
          "text": [
            "There are 100 cars available.\n",
            "There are only 30 drivers available.\n",
            "There will be 70 empty cars today.\n",
            "We can transport 120.0 people today.\n",
            "We have 90 to carpool today.\n",
            "We need to put about 3.0 in each car.\n",
            "2.0\n"
          ]
        }
      ]
    }
  ]
}